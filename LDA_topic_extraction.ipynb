{
 "cells": [
  {
   "cell_type": "markdown",
   "metadata": {},
   "source": [
    "# Topic extraction using LDA"
   ]
  },
  {
   "cell_type": "code",
   "execution_count": 1,
   "metadata": {},
   "outputs": [],
   "source": [
    "%load_ext autoreload\n",
    "%autoreload 2\n",
    "import sys\n",
    "import os\n",
    "import random"
   ]
  },
  {
   "cell_type": "code",
   "execution_count": 2,
   "metadata": {},
   "outputs": [],
   "source": [
    "from lib.data import generate_profiles\n",
    "from lib.functions import *\n",
    "from lib.model import tfidf"
   ]
  },
  {
   "cell_type": "code",
   "execution_count": 3,
   "metadata": {},
   "outputs": [
    {
     "name": "stdout",
     "output_type": "stream",
     "text": [
      "Number of articles: 2225\n",
      "Training: 2002\n",
      "Test: 223\n"
     ]
    }
   ],
   "source": [
    "tfidf_model = tfidf()\n",
    "path = os.path.join('bbc-fulltext')              \n",
    "tfidf_model.get_articles(path)\n",
    "tfidf_model.split_data()"
   ]
  },
  {
   "cell_type": "code",
   "execution_count": 4,
   "metadata": {},
   "outputs": [
    {
     "name": "stdout",
     "output_type": "stream",
     "text": [
      "Wall time: 15.4 s\n"
     ]
    }
   ],
   "source": [
    "docs = [i['text'] for i in tfidf_model.docs]\n",
    "\n",
    "from gensim import corpora, models\n",
    "\n",
    "# list_of_list_of_tokens = [[\"a\",\"b\",\"c\"], [\"d\",\"e\",\"f\"]]\n",
    "# [\"a\",\"b\",\"c\"] are the tokens of document 1, [\"d\",\"e\",\"f\"] are the tokens of document 2...\n",
    "list_of_list_of_tokens = [preprocess_document(doc) for doc in docs]\n",
    "dictionary_LDA = corpora.Dictionary(list_of_list_of_tokens)\n",
    "dictionary_LDA.filter_extremes(no_below=3)\n",
    "corpus = [dictionary_LDA.doc2bow(list_of_tokens) for list_of_tokens in list_of_list_of_tokens]\n",
    "\n",
    "num_topics = 10\n",
    "%time lda_model = models.LdaModel(corpus, num_topics=num_topics, \\\n",
    "                                  id2word=dictionary_LDA, \\\n",
    "                                  passes=4, alpha=[0.01]*num_topics, \\\n",
    "                                  eta=[0.01]*len(dictionary_LDA.keys()))"
   ]
  },
  {
   "cell_type": "code",
   "execution_count": 5,
   "metadata": {},
   "outputs": [
    {
     "name": "stdout",
     "output_type": "stream",
     "text": [
      "0: 0.008*\"trade\" + 0.007*\"euro\" + 0.007*\"dollar\" + 0.007*\"fiat\" + 0.007*\"charg\" + 0.006*\"2004\" + 0.006*\"chelsea\" + 0.005*\"could\" + 0.005*\"test\" + 0.005*\"last\"\n",
      "\n",
      "1: 0.009*\"club\" + 0.007*\"new\" + 0.007*\"share\" + 0.007*\"offer\" + 0.006*\"compani\" + 0.006*\"firm\" + 0.005*\"airlin\" + 0.005*\"bid\" + 0.005*\"unit\" + 0.005*\"last\"\n",
      "\n",
      "2: 0.012*\"user\" + 0.011*\"use\" + 0.010*\"net\" + 0.009*\"search\" + 0.009*\"peopl\" + 0.009*\"microsoft\" + 0.007*\"play\" + 0.007*\"open\" + 0.006*\"win\" + 0.006*\"firm\"\n",
      "\n",
      "3: 0.011*\"use\" + 0.010*\"peopl\" + 0.008*\"technolog\" + 0.007*\"secur\" + 0.007*\"right\" + 0.006*\"comput\" + 0.006*\"new\" + 0.006*\"say\" + 0.006*\"could\" + 0.005*\"system\"\n",
      "\n",
      "4: 0.015*\"game\" + 0.009*\"world\" + 0.007*\"new\" + 0.006*\"time\" + 0.005*\"set\" + 0.004*\"take\" + 0.004*\"european\" + 0.004*\"get\" + 0.004*\"could\" + 0.004*\"work\"\n",
      "\n",
      "5: 0.008*\"tax\" + 0.007*\"growth\" + 0.007*\"bank\" + 0.006*\"economi\" + 0.006*\"elect\" + 0.006*\"econom\" + 0.006*\"labour\" + 0.006*\"govern\" + 0.005*\"market\" + 0.005*\"compani\"\n",
      "\n",
      "6: 0.017*\"film\" + 0.010*\"best\" + 0.009*\"star\" + 0.009*\"award\" + 0.007*\"show\" + 0.006*\"music\" + 0.006*\"one\" + 0.006*\"top\" + 0.005*\"includ\" + 0.005*\"time\"\n",
      "\n",
      "7: 0.010*\"system\" + 0.009*\"servic\" + 0.008*\"file\" + 0.008*\"age\" + 0.008*\"new\" + 0.008*\"parti\" + 0.007*\"peopl\" + 0.007*\"work\" + 0.006*\"network\" + 0.006*\"women\"\n",
      "\n",
      "8: 0.013*\"minist\" + 0.011*\"govern\" + 0.011*\"say\" + 0.010*\"blair\" + 0.009*\"plan\" + 0.008*\"lord\" + 0.008*\"parti\" + 0.008*\"labour\" + 0.007*\"elect\" + 0.007*\"peopl\"\n",
      "\n",
      "9: 0.010*\"back\" + 0.009*\"england\" + 0.008*\"game\" + 0.008*\"play\" + 0.008*\"win\" + 0.007*\"ireland\" + 0.007*\"side\" + 0.006*\"match\" + 0.006*\"two\" + 0.006*\"franc\"\n",
      "\n"
     ]
    }
   ],
   "source": [
    "for i, topic in lda_model.show_topics(formatted=True, num_topics=num_topics, num_words=10):\n",
    "    print(str(i)+\": \"+ topic)\n",
    "    print()"
   ]
  }
 ],
 "metadata": {
  "kernelspec": {
   "display_name": "Python 3",
   "language": "python",
   "name": "python3"
  },
  "language_info": {
   "codemirror_mode": {
    "name": "ipython",
    "version": 3
   },
   "file_extension": ".py",
   "mimetype": "text/x-python",
   "name": "python",
   "nbconvert_exporter": "python",
   "pygments_lexer": "ipython3",
   "version": "3.7.2"
  }
 },
 "nbformat": 4,
 "nbformat_minor": 2
}
