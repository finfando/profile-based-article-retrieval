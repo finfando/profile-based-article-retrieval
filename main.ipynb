{
 "cells": [
  {
   "cell_type": "code",
   "execution_count": 1,
   "metadata": {},
   "outputs": [],
   "source": [
    "%load_ext autoreload\n",
    "%autoreload 2\n",
    "import sys\n",
    "import os\n",
    "import random\n",
    "import pickle"
   ]
  },
  {
   "cell_type": "code",
   "execution_count": 2,
   "metadata": {},
   "outputs": [],
   "source": [
    "from lib.data import generate_profiles\n",
    "from lib.functions import *\n",
    "from lib.model import tfidf"
   ]
  },
  {
   "cell_type": "code",
   "execution_count": 3,
   "metadata": {},
   "outputs": [
    {
     "name": "stdout",
     "output_type": "stream",
     "text": [
      "Automatically created module for IPython interactive environment\n"
     ]
    }
   ],
   "source": [
    "# for confusion matrix\n",
    "print(__doc__)\n",
    "\n",
    "import numpy as np\n",
    "import matplotlib.pyplot as plt\n",
    "\n",
    "from sklearn import svm, datasets\n",
    "from sklearn.model_selection import train_test_split\n",
    "from sklearn.metrics import confusion_matrix, accuracy_score\n",
    "from sklearn.utils.multiclass import unique_labels\n",
    "\n",
    "def plot_confusion_matrix(y_true, y_pred, classes,\n",
    "                          normalize=False,\n",
    "                          title=None,\n",
    "                          cmap=plt.cm.Blues):\n",
    "    \"\"\"\n",
    "    This function prints and plots the confusion matrix.\n",
    "    Normalization can be applied by setting `normalize=True`.\n",
    "    \"\"\"\n",
    "    if not title:\n",
    "        if normalize:\n",
    "            title = 'Normalized confusion matrix'\n",
    "        else:\n",
    "            title = 'Confusion matrix, without normalization'\n",
    "\n",
    "    # Compute confusion matrix\n",
    "    cm = confusion_matrix(y_true, y_pred)\n",
    "    # Only use the labels that appear in the data\n",
    "    classes = classes\n",
    "#     classes = classes[unique_labels(y_true, y_pred)]\n",
    "    if normalize:\n",
    "        cm = cm.astype('float') / cm.sum(axis=1)[:, np.newaxis]\n",
    "        print(\"Normalized confusion matrix\")\n",
    "    else:\n",
    "        print('Confusion matrix, without normalization')\n",
    "\n",
    "    print(cm)\n",
    "\n",
    "    fig, ax = plt.subplots()\n",
    "    im = ax.imshow(cm, interpolation='nearest', cmap=cmap)\n",
    "    ax.figure.colorbar(im, ax=ax)\n",
    "    # We want to show all ticks...\n",
    "    ax.set(xticks=np.arange(cm.shape[1]),\n",
    "           yticks=np.arange(cm.shape[0]),\n",
    "           # ... and label them with the respective list entries\n",
    "           xticklabels=classes, yticklabels=classes,\n",
    "           title=title,\n",
    "           ylabel='True label',\n",
    "           xlabel='Predicted label')\n",
    "\n",
    "    # Rotate the tick labels and set their alignment.\n",
    "    plt.setp(ax.get_xticklabels(), rotation=45, ha=\"right\",\n",
    "             rotation_mode=\"anchor\")\n",
    "\n",
    "    # Loop over data dimensions and create text annotations.\n",
    "    fmt = '.2f' if normalize else 'd'\n",
    "    thresh = cm.max() / 2.\n",
    "    for i in range(cm.shape[0]):\n",
    "        for j in range(cm.shape[1]):\n",
    "            ax.text(j, i, format(cm[i, j], fmt),\n",
    "                    ha=\"center\", va=\"center\",\n",
    "                    color=\"white\" if cm[i, j] > thresh else \"black\")\n",
    "    fig.tight_layout()\n",
    "    return ax\n",
    "\n",
    "\n",
    "np.set_printoptions(precision=2)\n",
    "\n",
    "plt.show()"
   ]
  },
  {
   "cell_type": "markdown",
   "metadata": {},
   "source": [
    "# Profiles\n",
    "Here we generate some profiles"
   ]
  },
  {
   "cell_type": "code",
   "execution_count": 4,
   "metadata": {},
   "outputs": [
    {
     "data": {
      "text/plain": [
       "{0: ['politics', 'entertainment', 'business'],\n",
       " 1: ['business', 'politics'],\n",
       " 2: ['politics', 'sport', 'business', 'tech', 'entertainment'],\n",
       " 3: ['politics', 'sport', 'tech', 'business', 'entertainment'],\n",
       " 4: ['sport', 'entertainment'],\n",
       " 5: ['business', 'politics', 'tech'],\n",
       " 6: ['business', 'politics', 'tech', 'entertainment'],\n",
       " 7: ['sport', 'tech'],\n",
       " 8: ['politics'],\n",
       " 9: ['tech', 'business', 'politics']}"
      ]
     },
     "execution_count": 4,
     "metadata": {},
     "output_type": "execute_result"
    }
   ],
   "source": [
    "n = 10\n",
    "topics = [\n",
    "    'business',\n",
    "    'entertainment',\n",
    "    'politics',\n",
    "    'sport',\n",
    "    'tech',\n",
    "]\n",
    "\n",
    "profiles = generate_profiles(n, topics)\n",
    "profiles"
   ]
  },
  {
   "cell_type": "markdown",
   "metadata": {},
   "source": [
    "# Train model"
   ]
  },
  {
   "cell_type": "code",
   "execution_count": 5,
   "metadata": {},
   "outputs": [
    {
     "name": "stdout",
     "output_type": "stream",
     "text": [
      "Number of articles: 2225\n",
      "Training: 2002\n",
      "Test: 223\n"
     ]
    }
   ],
   "source": [
    "tfidf_model = tfidf()\n",
    "path = os.path.join('bbc-fulltext')              \n",
    "tfidf_model.get_articles(path)\n",
    "tfidf_model.split_data()"
   ]
  },
  {
   "cell_type": "code",
   "execution_count": 6,
   "metadata": {},
   "outputs": [
    {
     "name": "stdout",
     "output_type": "stream",
     "text": [
      "Wall time: 11.2 s\n"
     ]
    }
   ],
   "source": [
    "%time tfidf_model.train()"
   ]
  },
  {
   "cell_type": "markdown",
   "metadata": {},
   "source": [
    "# Test model on a single example"
   ]
  },
  {
   "cell_type": "code",
   "execution_count": 7,
   "metadata": {},
   "outputs": [],
   "source": [
    "text = '''\n",
    "Anelka, 25, is in talks over a contract extension beyond 2007 with City but is believed to fear his career \n",
    "will go stale if he stays at the club. The News of the World reports that Anelka told a French magazine: \n",
    "\"I either decide to win titles or to have an easy life. \n",
    "\"I think I will always choose football, if a great club makes me an offer.\n",
    "'''\n",
    "ranking = tfidf_model.get_ranking(text)"
   ]
  },
  {
   "cell_type": "code",
   "execution_count": 8,
   "metadata": {
    "scrolled": false
   },
   "outputs": [
    {
     "name": "stdout",
     "output_type": "stream",
     "text": [
      "[ Score = 0.528] sport\n",
      "Anelka apologises for criticism\n",
      "\n",
      "Manchester City striker Nicolas Anelka has issued an apology for criticising the ambitions of the club.\n",
      "\n",
      "Anelka was quoted in a French newspaper as saying he would like to play in the Champions League for a bigger club. But chairman John Wardle said: \"I've spoken to Nicolas and he's apologised for anything that might have been mistakenly taken from the French press. \"We are a big club. Nicolas told me that he agrees with me that we are a big club.\" Wardle was speaking at the club's annual general meeting, where he also confirmed the club had not received any bids for the former Arsenal and Real Madrid striker. The club still owe French club PSG ÂŁ5m from the purchase of Anelka in May 2002. He has been linked with a move to Barcelona and Liverpool, and Reds skipper Steven Gerrard also revealed he is an admirer from his time on loan at Anfield. But Wardle added: \"There's been no bids for Nicolas Anelka. No-one has come to me and said I would like to buy Nicolas Anelka.\n",
      "\n",
      "\"If a bid comes in for Nicolas Anelka I will speak to the board and then speak to Kevin Keegan. \"If there was a bid and it was a bid of substance and worth taking then between us we'd decide. \"We still owe some money on Nicolas which we have clear out, so it would have to be above that.\" Wardle did stress that the club was not inviting any offers for England winger Shaun Wright-Phillips. He added: \"I've no intention of selling Shaun Wright-Phillips. \"If someone comes with a silly bid I'll have to discuss it. \"But we're not putting him on the shelf to sell. He is the heart and soul of this club and has his heart and sole in this club, and he would be very upset if I put him in the shop window. \"He was an academy kid here, he's just signed a new four-year deal, I don't think he'd do that unless he wanted to play for Manchester City Football Club.\" City recently announced debts of ÂŁ62m, but Wardle confirmed they would try and find funds to bring in players in the January transfer window. He said: \"Like Kevin I'd like to see some players come in. We've got to see what we can do - whether it's a on a Bosman or not. \"We will try to be creative to generate some funds. But maybe we have to start looking at clubs like Everton and Bolton to see how they have been dealing in the transfer market and do a similar type of thing.\"\n",
      "\n",
      "[ Score = 0.505] sport\n",
      "Anelka 'eyes Man City departure'\n",
      "\n",
      "Striker Nicolas Anelka reportedly wants to leave Manchester City in search of Champions League football.\n",
      "\n",
      "Anelka, 25, is in talks over a contract extension beyond 2007 with City but is believed to fear his career will go stale if he stays at the club. The News of the World reports that Anelka told a French magazine: \"I either decide to win titles or to have an easy life. \"I think I will always choose football, if a great club makes me an offer.\" He added: \"To win titles you need players who have the capability of doing so. If we stagnate between eighth and 15th place it's impossible to progress. \"If I am going to score goals and not win, there is a risk it is going to create a feeling of being fed up.\" Anelka has earned a reputation for being a difficult character to handle after spells at Arsenal, Real Madrid and Paris St Germain and he feels that is now coming back to haunt him.\n",
      "\n",
      "\"I am in talks to sign an extension to my contract,\" he said. \"I am well here but the sporting aspect also comes into account. \"Playing for eighth place is good but I miss the Champions League. \"I won it with Real Madrid in 2000 and I need to be playing in it - and I should be playing in it. \"I'm not in it because of things that have happened in the past and had nothing to do with football. \"But I don't blame anyone. It's a bit my fault.\"\n",
      "\n",
      "[ Score = 0.237] business\n",
      "Rescue hope for Borussia Dortmund\n",
      "\n",
      "Shares in struggling German football club Borussia Dortmund slipped on Monday despite the club agreeing a rescue plan with creditors on Friday.\n",
      "\n",
      "The club, which has posted record losses and racked up debts, said last week that it was in \"a life-threatening profitability and financial situation\". Creditors agreed on Friday to suspend interest payments until 2007. News of the deal had boosted shares in the club on Friday, but the stock slipped back 7% during Monday morning.\n",
      "\n",
      "In addition to the interest-payment freeze, Borussia Dortmund also will get short-term loans to help pay salaries. It estimated that it needs almost 30m euros ($39m; ÂŁ21m) until the end of June if it is to pay its bills. The football club is hoping that all its creditors will agree to defer rent payments on its Westfalen stadium. Borussia officials met with almost all the banks involved in its financing on Friday and over the weekend. Three creditors have yet to agree to the deal struck last week. On 14 March, one of these creditors - property investment fund Molsiris which owns the club's stadium - holds its AGM at which it will discuss the rescue plan. Chief executive Gerd Niebaum stepped down last week and creditors have been pushing for a greater say in how the club is run. Borussia Dortmund also is facing calls to appoint executives from outside the club. The club posted a record loss of 68m euros in the 12 months through June. Adding to its woes, Borussia Dortmund was beaten 5-0 by Bayern Munich on Saturday.\n",
      "\n",
      "[ Score = 0.231] sport\n",
      "Israeli club look to Africa\n",
      "\n",
      "Four African players, including Zimbabwe goalkeeper Energy Murambadoro, are all ready to play for Israeli club Hapoel Bnei Sakhnin in the Uefa Cup.\n",
      "\n",
      "Bnei Sakhnin are the first Arab side ever to play in European competition and will play English Premiership side Newcastle United in the first round. Warriors' goalkeeper Murambadoro, who made a name for himself at the African Nations Cup finals in Tunisia, helped Bnei Sakhnin overcome Albania's Partizani Tirana 6-1 in the previous round. Murambadoro moved to Israel recently after a brief stint with South African club Hellenic. The club won the Israeli Cup final last season and are based in Sakhnin, which is near Haifa. The club have a strong ethic and are high profile promoters of peace and co-operation within Israel. The three other Africans at the club are former Cameroon defender Ernest Etchi, DR Congo's Alain Masudi and Nigerian midfielder Edith Agoye, who had a stint with Tunisian side Esperance.\n",
      "\n"
     ]
    }
   ],
   "source": [
    "counter = 0\n",
    "for doc, score in ranking:\n",
    "    print(\"[ Score = \" + \"%.3f\" % round(score,3) + \"] \" + tfidf_model.train_set[doc]['category'])\n",
    "    print(tfidf_model.train_set[doc]['text'])\n",
    "    counter+=1\n",
    "    if counter > 3: break"
   ]
  },
  {
   "cell_type": "code",
   "execution_count": 9,
   "metadata": {},
   "outputs": [
    {
     "data": {
      "text/plain": [
       "[(611, 0.52825373),\n",
       " (487, 0.5048102),\n",
       " (456, 0.23713574),\n",
       " (1105, 0.23130646),\n",
       " (1715, 0.22493996),\n",
       " (1489, 0.19554712),\n",
       " (304, 0.19510253),\n",
       " (330, 0.19152878),\n",
       " (363, 0.18590091),\n",
       " (759, 0.1857287),\n",
       " (1978, 0.17382784),\n",
       " (1896, 0.172052),\n",
       " (1974, 0.1702748),\n",
       " (1192, 0.16509415),\n",
       " (525, 0.16282298),\n",
       " (1624, 0.14879194),\n",
       " (1621, 0.14866383),\n",
       " (1326, 0.14830223),\n",
       " (394, 0.14727618),\n",
       " (717, 0.14575222),\n",
       " (1357, 0.14509651),\n",
       " (1272, 0.14469218),\n",
       " (699, 0.14086528),\n",
       " (128, 0.14078636),\n",
       " (1293, 0.13391736),\n",
       " (70, 0.12669177),\n",
       " (811, 0.114805944),\n",
       " (1803, 0.11443899),\n",
       " (591, 0.11377256),\n",
       " (1617, 0.109718286),\n",
       " (54, 0.10327142),\n",
       " (25, 0.10015863)]"
      ]
     },
     "execution_count": 9,
     "metadata": {},
     "output_type": "execute_result"
    }
   ],
   "source": [
    "[r for r in ranking if r[1] > 0.10]"
   ]
  },
  {
   "cell_type": "markdown",
   "metadata": {},
   "source": [
    "# Evaluate on test set"
   ]
  },
  {
   "cell_type": "code",
   "execution_count": 10,
   "metadata": {},
   "outputs": [
    {
     "name": "stdout",
     "output_type": "stream",
     "text": [
      "Wall time: 33.5 s\n"
     ]
    }
   ],
   "source": [
    "%%time\n",
    "true_labels = [a['category'] for a in tfidf_model.test_set]\n",
    "predictions = []\n",
    "\n",
    "for a in tfidf_model.test_set:\n",
    "    predictions.append(tfidf_model.predict(a['text']))"
   ]
  },
  {
   "cell_type": "code",
   "execution_count": 11,
   "metadata": {},
   "outputs": [
    {
     "name": "stdout",
     "output_type": "stream",
     "text": [
      "Accuracy score: 0.9282511210762332\n",
      "Confusion matrix, without normalization\n",
      "[[53  0  3  0  1]\n",
      " [ 0 40  4  0  0]\n",
      " [ 2  1 39  0  0]\n",
      " [ 0  1  0 41  0]\n",
      " [ 1  2  0  1 34]]\n"
     ]
    },
    {
     "data": {
      "text/plain": [
       "<matplotlib.axes._subplots.AxesSubplot at 0x218da991390>"
      ]
     },
     "execution_count": 11,
     "metadata": {},
     "output_type": "execute_result"
    },
    {
     "data": {
      "image/png": "[encoded data removed]",
      "text/plain": [
       "<Figure size 432x288 with 2 Axes>"
      ]
     },
     "metadata": {
      "needs_background": "light"
     },
     "output_type": "display_data"
    }
   ],
   "source": [
    "print('Accuracy score:', accuracy_score(true_labels, predictions))\n",
    "\n",
    "# Plot non-normalized confusion matrix\n",
    "plot_confusion_matrix(true_labels, predictions, classes=topics,\n",
    "                      title='Confusion matrix, without normalization')"
   ]
  },
  {
   "cell_type": "markdown",
   "metadata": {},
   "source": [
    "# Article assignment\n",
    "Here we need to assign some articles"
   ]
  },
  {
   "cell_type": "code",
   "execution_count": 12,
   "metadata": {},
   "outputs": [
    {
     "name": "stdout",
     "output_type": "stream",
     "text": [
      "sport\n",
      "0 ['politics', 'entertainment', 'business']\n",
      "1 ['business', 'politics']\n",
      "2 ['politics', 'sport', 'business', 'tech', 'entertainment']\n",
      "Article assigned to user 2\n",
      "3 ['politics', 'sport', 'tech', 'business', 'entertainment']\n",
      "Article assigned to user 3\n",
      "4 ['sport', 'entertainment']\n",
      "Article assigned to user 4\n",
      "5 ['business', 'politics', 'tech']\n",
      "6 ['business', 'politics', 'tech', 'entertainment']\n",
      "7 ['sport', 'tech']\n",
      "Article assigned to user 7\n",
      "8 ['politics']\n",
      "9 ['tech', 'business', 'politics']\n"
     ]
    }
   ],
   "source": [
    "new_article = text\n",
    "\n",
    "# assign topic to article\n",
    "article_topic = tfidf_model.predict(new_article)\n",
    "print(article_topic)\n",
    "\n",
    "for profile, profile_topics in profiles.items():\n",
    "    print(profile, profile_topics)\n",
    "    if article_topic in profile_topics:\n",
    "        print('Article assigned to user', profile)\n",
    "    else:\n",
    "        pass"
   ]
  },
  {
   "cell_type": "code",
   "execution_count": 13,
   "metadata": {},
   "outputs": [],
   "source": [
    "# save model\n",
    "pickle.dump(tfidf_model, open('models/tfidf_model.pickle', 'wb'))"
   ]
  }
 ],
 "metadata": {
  "kernelspec": {
   "display_name": "Python 3",
   "language": "python",
   "name": "python3"
  },
  "language_info": {
   "codemirror_mode": {
    "name": "ipython",
    "version": 3
   },
   "file_extension": ".py",
   "mimetype": "text/x-python",
   "name": "python",
   "nbconvert_exporter": "python",
   "pygments_lexer": "ipython3",
   "version": "3.7.2"
  }
 },
 "nbformat": 4,
 "nbformat_minor": 2
}
