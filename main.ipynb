{
 "cells": [
  {
   "cell_type": "code",
   "execution_count": 1,
   "metadata": {},
   "outputs": [],
   "source": [
    "%load_ext autoreload\n",
    "%autoreload 2\n",
    "import sys\n",
    "import os\n",
    "import random"
   ]
  },
  {
   "cell_type": "code",
   "execution_count": 2,
   "metadata": {},
   "outputs": [],
   "source": [
    "from lib.data import generate_profiles\n",
    "from lib.functions import *\n",
    "from lib.model import tfidf"
   ]
  },
  {
   "cell_type": "code",
   "execution_count": 3,
   "metadata": {},
   "outputs": [
    {
     "name": "stdout",
     "output_type": "stream",
     "text": [
      "Automatically created module for IPython interactive environment\n"
     ]
    }
   ],
   "source": [
    "# for confusion matrix\n",
    "print(__doc__)\n",
    "\n",
    "import numpy as np\n",
    "import matplotlib.pyplot as plt\n",
    "\n",
    "from sklearn import svm, datasets\n",
    "from sklearn.model_selection import train_test_split\n",
    "from sklearn.metrics import confusion_matrix\n",
    "from sklearn.utils.multiclass import unique_labels\n",
    "\n",
    "def plot_confusion_matrix(y_true, y_pred, classes,\n",
    "                          normalize=False,\n",
    "                          title=None,\n",
    "                          cmap=plt.cm.Blues):\n",
    "    \"\"\"\n",
    "    This function prints and plots the confusion matrix.\n",
    "    Normalization can be applied by setting `normalize=True`.\n",
    "    \"\"\"\n",
    "    if not title:\n",
    "        if normalize:\n",
    "            title = 'Normalized confusion matrix'\n",
    "        else:\n",
    "            title = 'Confusion matrix, without normalization'\n",
    "\n",
    "    # Compute confusion matrix\n",
    "    cm = confusion_matrix(y_true, y_pred)\n",
    "    # Only use the labels that appear in the data\n",
    "    classes = classes\n",
    "#     classes = classes[unique_labels(y_true, y_pred)]\n",
    "    if normalize:\n",
    "        cm = cm.astype('float') / cm.sum(axis=1)[:, np.newaxis]\n",
    "        print(\"Normalized confusion matrix\")\n",
    "    else:\n",
    "        print('Confusion matrix, without normalization')\n",
    "\n",
    "    print(cm)\n",
    "\n",
    "    fig, ax = plt.subplots()\n",
    "    im = ax.imshow(cm, interpolation='nearest', cmap=cmap)\n",
    "    ax.figure.colorbar(im, ax=ax)\n",
    "    # We want to show all ticks...\n",
    "    ax.set(xticks=np.arange(cm.shape[1]),\n",
    "           yticks=np.arange(cm.shape[0]),\n",
    "           # ... and label them with the respective list entries\n",
    "           xticklabels=classes, yticklabels=classes,\n",
    "           title=title,\n",
    "           ylabel='True label',\n",
    "           xlabel='Predicted label')\n",
    "\n",
    "    # Rotate the tick labels and set their alignment.\n",
    "    plt.setp(ax.get_xticklabels(), rotation=45, ha=\"right\",\n",
    "             rotation_mode=\"anchor\")\n",
    "\n",
    "    # Loop over data dimensions and create text annotations.\n",
    "    fmt = '.2f' if normalize else 'd'\n",
    "    thresh = cm.max() / 2.\n",
    "    for i in range(cm.shape[0]):\n",
    "        for j in range(cm.shape[1]):\n",
    "            ax.text(j, i, format(cm[i, j], fmt),\n",
    "                    ha=\"center\", va=\"center\",\n",
    "                    color=\"white\" if cm[i, j] > thresh else \"black\")\n",
    "    fig.tight_layout()\n",
    "    return ax\n",
    "\n",
    "\n",
    "np.set_printoptions(precision=2)\n",
    "\n",
    "plt.show()"
   ]
  },
  {
   "cell_type": "markdown",
   "metadata": {},
   "source": [
    "# Profiles\n",
    "Here we generate some profiles"
   ]
  },
  {
   "cell_type": "code",
   "execution_count": 4,
   "metadata": {},
   "outputs": [
    {
     "data": {
      "text/plain": [
       "{0: ['politics', 'entertainment', 'technology'],\n",
       " 1: ['business', 'politics', 'technology', 'sports', 'entertainment'],\n",
       " 2: ['politics', 'sports'],\n",
       " 3: ['business', 'technology'],\n",
       " 4: ['sports', 'business', 'politics'],\n",
       " 5: ['entertainment', 'politics'],\n",
       " 6: ['business'],\n",
       " 7: ['technology', 'sports', 'business', 'politics'],\n",
       " 8: ['technology', 'sports', 'business', 'entertainment'],\n",
       " 9: ['business', 'politics', 'sports']}"
      ]
     },
     "execution_count": 4,
     "metadata": {},
     "output_type": "execute_result"
    }
   ],
   "source": [
    "n = 10\n",
    "topics = [\n",
    "    'business',\n",
    "    'entertainment',\n",
    "    'politics',\n",
    "    'sports',\n",
    "    'technology',\n",
    "]\n",
    "\n",
    "profiles = generate_profiles(n, topics)\n",
    "profiles"
   ]
  },
  {
   "cell_type": "markdown",
   "metadata": {},
   "source": [
    "# Train model"
   ]
  },
  {
   "cell_type": "code",
   "execution_count": 5,
   "metadata": {},
   "outputs": [
    {
     "name": "stdout",
     "output_type": "stream",
     "text": [
      "Number of articles: 2225\n",
      "Training: 2002\n",
      "Test: 223\n"
     ]
    }
   ],
   "source": [
    "tfidf_model = tfidf()\n",
    "path = os.path.join('bbc-fulltext')              \n",
    "tfidf_model.get_articles(path)\n",
    "tfidf_model.split_data()"
   ]
  },
  {
   "cell_type": "code",
   "execution_count": 6,
   "metadata": {},
   "outputs": [
    {
     "name": "stdout",
     "output_type": "stream",
     "text": [
      "Wall time: 22.6 s\n"
     ]
    }
   ],
   "source": [
    "%time tfidf_model.train()"
   ]
  },
  {
   "cell_type": "markdown",
   "metadata": {},
   "source": [
    "# Test model on a single example"
   ]
  },
  {
   "cell_type": "code",
   "execution_count": 7,
   "metadata": {},
   "outputs": [],
   "source": [
    "text = '''\n",
    "Anelka, 25, is in talks over a contract extension beyond 2007 with City but is believed to fear his career \n",
    "will go stale if he stays at the club. The News of the World reports that Anelka told a French magazine: \n",
    "\"I either decide to win titles or to have an easy life. \n",
    "\"I think I will always choose football, if a great club makes me an offer.\n",
    "'''\n",
    "ranking = tfidf_model.get_ranking(text)"
   ]
  },
  {
   "cell_type": "code",
   "execution_count": 8,
   "metadata": {
    "scrolled": false
   },
   "outputs": [
    {
     "name": "stdout",
     "output_type": "stream",
     "text": [
      "[ Score = 0.369] sport\n",
      "Anelka apologises for criticism\n",
      "\n",
      "Manchester City striker Nicolas Anelka has issued an apology for criticising the ambitions of the club.\n",
      "\n",
      "Anelka was quoted in a French newspaper as saying he would like to play in the Champions League for a bigger club. But chairman John Wardle said: \"I've spoken to Nicolas and he's apologised for anything that might have been mistakenly taken from the French press. \"We are a big club. Nicolas told me that he agrees with me that we are a big club.\" Wardle was speaking at the club's annual general meeting, where he also confirmed the club had not received any bids for the former Arsenal and Real Madrid striker. The club still owe French club PSG ÂŁ5m from the purchase of Anelka in May 2002. He has been linked with a move to Barcelona and Liverpool, and Reds skipper Steven Gerrard also revealed he is an admirer from his time on loan at Anfield. But Wardle added: \"There's been no bids for Nicolas Anelka. No-one has come to me and said I would like to buy Nicolas Anelka.\n",
      "\n",
      "\"If a bid comes in for Nicolas Anelka I will speak to the board and then speak to Kevin Keegan. \"If there was a bid and it was a bid of substance and worth taking then between us we'd decide. \"We still owe some money on Nicolas which we have clear out, so it would have to be above that.\" Wardle did stress that the club was not inviting any offers for England winger Shaun Wright-Phillips. He added: \"I've no intention of selling Shaun Wright-Phillips. \"If someone comes with a silly bid I'll have to discuss it. \"But we're not putting him on the shelf to sell. He is the heart and soul of this club and has his heart and sole in this club, and he would be very upset if I put him in the shop window. \"He was an academy kid here, he's just signed a new four-year deal, I don't think he'd do that unless he wanted to play for Manchester City Football Club.\" City recently announced debts of ÂŁ62m, but Wardle confirmed they would try and find funds to bring in players in the January transfer window. He said: \"Like Kevin I'd like to see some players come in. We've got to see what we can do - whether it's a on a Bosman or not. \"We will try to be creative to generate some funds. But maybe we have to start looking at clubs like Everton and Bolton to see how they have been dealing in the transfer market and do a similar type of thing.\"\n",
      "\n",
      "[ Score = 0.203] sport\n",
      "Wenger signs new deal\n",
      "\n",
      "Arsenal manager Arsene Wenger has signed a new contract to stay at the club until May 2008.\n",
      "\n",
      "Wenger has ended speculation about his future by agreeing a long-term contract that takes him beyond the opening of Arsenal's new stadium in two years. He said: \"Signing a new contract just rubber-stamps my desire to take this club forward and fulfil my ambitions. \"I still have so much to achieve and my target is to drive this club on. These are exciting times for Arsenal.\"\n",
      "\n",
      "The 55-year-old Frenchman told Arsenal's website www.arsenal.com: \"My intention has always been clear. I love this club and am very happy here.\" Wenger has won the title and the FA Cup three times each during his reign. Chairman Peter Hill-Wood said: \"We are absolutely delighted that Arsene has signed an extension to his contract. \"Since his arrival in 1996, he has revolutionised the club both on and off the pitch. \"As well as the six major honours he's won during his time here, Arsene has been a leading influence behind all the major initiatives at the club including the construction of our new training centre and also our new stadium.\n",
      "\n",
      "\"The club has continued to reap the benefits of Arsene's natural eye for unearthing footballing talent. \"We currently have a fantastic crop of young players coming through the ranks together with a number of world-class players who are playing a wonderful brand of football.\" Meanwhile, Arsenal director Danny Fiszman is looking for Wenger to stay beyond 2008. \"When we come towards the end of his contract we will both review the situation. I'm sure we will want him to stay on and I hope he will too,\" said Fiszman.\n",
      "\n",
      "[ Score = 0.179] sport\n",
      "Newcastle to join Morientes race\n",
      "\n",
      "Newcastle have joined the race to sign Real Madrid striker Fernando Morientes and scupper Liverpool's bid to snap up the player, according to reports.\n",
      "\n",
      "Liverpool were reported to have bid ÂŁ3.5m for the 28-year-old Spanish international this week. But the Liverpool Echo newspaper has said Anfield boss Rafa Benitez will avoid a bidding war and instead turn his attentions to Nicolas Anelka. Real are believed to still want ÂŁ7m before selling Morientes. Monaco are also in the race for the player they had on loan last season. Reports suggest Liverpool will lift their offer to ÂŁ5m - the highest they are willing to go before bowing out of any deal.\n",
      "\n",
      "On Tuesday, Morientes had said: \"I like Liverpool and I am pleased that a club of their stature want to buy me. I have told Madrid that I want it to happen. \"Madrid know my situation and they know they must do something about me. They must sort out the situation by being sensible. \"I am in a position where I want to play, and I will have to look elsewhere to do that. If Madrid do not want me then it's in the best interests of everyone that they are realistic.\n",
      "\n",
      "\"I haven't spoken to Rafa Benitez but I have always appreciated his work and I would like to play for him. But Benitez could yet turn his attentions to the younger Anelka should Morientes be reluctant to pledge his future to Liverpool. Anelka previously played at Anfield under Gerard Houllier before sealing his permanent switch to Manchester City.\n",
      "\n",
      "[ Score = 0.176] sport\n",
      "Ronaldo considering new contract\n",
      "\n",
      "Manchester United winger Cristiano Ronaldo said he is close to agreeing to a new contract at Old Trafford.\n",
      "\n",
      "The Portugal star, who joined in August 2003 on a five-year-deal, is a regular in the United first-team. \"The United board have already made an offer to renew the contract but I'm trying not to think about it,\" he told the News of the World. \"My agent has spoken with the club and it will be resolved soon. I think we'll reach a good agreement for both sides.\" Ronaldo refused to commit his long-term future to the club.\n",
      "\n",
      "\"Nobody knows what will come tomorrow. I like being here, but who knows,\" he added. \"There aren't many bigger and better clubs than this one. It's my ambition to be at a big club. I'm happy but nobody knows the future.\"\n",
      "\n"
     ]
    }
   ],
   "source": [
    "counter = 0\n",
    "for doc, score in ranking:\n",
    "    print(\"[ Score = \" + \"%.3f\" % round(score,3) + \"] \" + tfidf_model.train_set[doc]['category'])\n",
    "    print(tfidf_model.train_set[doc]['text'])\n",
    "    counter+=1\n",
    "    if counter > 3: break"
   ]
  },
  {
   "cell_type": "code",
   "execution_count": 9,
   "metadata": {},
   "outputs": [
    {
     "data": {
      "text/plain": [
       "'sport'"
      ]
     },
     "execution_count": 9,
     "metadata": {},
     "output_type": "execute_result"
    }
   ],
   "source": [
    "tfidf_model.predict(text)"
   ]
  },
  {
   "cell_type": "markdown",
   "metadata": {},
   "source": [
    "# Evaluate on test set"
   ]
  },
  {
   "cell_type": "code",
   "execution_count": 10,
   "metadata": {},
   "outputs": [
    {
     "name": "stdout",
     "output_type": "stream",
     "text": [
      "Wall time: 1min 38s\n"
     ]
    }
   ],
   "source": [
    "%%time\n",
    "true_labels = [a['category'] for a in tfidf_model.test_set]\n",
    "predictions = []\n",
    "\n",
    "for a in tfidf_model.test_set:\n",
    "    predictions.append(tfidf_model.predict(a['text']))"
   ]
  },
  {
   "cell_type": "code",
   "execution_count": 11,
   "metadata": {},
   "outputs": [
    {
     "name": "stdout",
     "output_type": "stream",
     "text": [
      "Confusion matrix, without normalization\n",
      "[[49  0  2  0  1]\n",
      " [ 1 27  1  1  1]\n",
      " [ 2  1 44  0  0]\n",
      " [ 1  0  0 48  0]\n",
      " [ 0  0  0  0 44]]\n"
     ]
    },
    {
     "data": {
      "text/plain": [
       "<matplotlib.axes._subplots.AxesSubplot at 0x20a4336eb70>"
      ]
     },
     "execution_count": 11,
     "metadata": {},
     "output_type": "execute_result"
    },
    {
     "data": {
      "image/png": "[encoded data removed]",
      "text/plain": [
       "<Figure size 432x288 with 2 Axes>"
      ]
     },
     "metadata": {
      "needs_background": "light"
     },
     "output_type": "display_data"
    }
   ],
   "source": [
    "# Plot non-normalized confusion matrix\n",
    "plot_confusion_matrix(true_labels, predictions, classes=topics,\n",
    "                      title='Confusion matrix, without normalization')"
   ]
  },
  {
   "cell_type": "markdown",
   "metadata": {},
   "source": [
    "# Article assignment\n",
    "Here we need to assign some articles"
   ]
  },
  {
   "cell_type": "code",
   "execution_count": 12,
   "metadata": {},
   "outputs": [
    {
     "name": "stdout",
     "output_type": "stream",
     "text": [
      "entertainment\n",
      "0 ['politics', 'entertainment', 'technology']\n",
      "Article assigned to user 0\n",
      "1 ['business', 'politics', 'technology', 'sports', 'entertainment']\n",
      "Article assigned to user 1\n",
      "2 ['politics', 'sports']\n",
      "3 ['business', 'technology']\n",
      "4 ['sports', 'business', 'politics']\n",
      "5 ['entertainment', 'politics']\n",
      "Article assigned to user 5\n",
      "6 ['business']\n",
      "7 ['technology', 'sports', 'business', 'politics']\n",
      "8 ['technology', 'sports', 'business', 'entertainment']\n",
      "Article assigned to user 8\n",
      "9 ['business', 'politics', 'sports']\n"
     ]
    }
   ],
   "source": [
    "new_article = '''\n",
    "tam tam tam\n",
    "'''\n",
    "\n",
    "# assign topic to article\n",
    "article_topic = tfidf_model.predict(new_article)\n",
    "print(article_topic)\n",
    "\n",
    "for profile, topics in profiles.items():\n",
    "    print(profile, topics)\n",
    "    if article_topic in topics:\n",
    "        print('Article assigned to user', profile)\n",
    "    else:\n",
    "        pass"
   ]
  }
 ],
 "metadata": {
  "kernelspec": {
   "display_name": "Python 3",
   "language": "python",
   "name": "python3"
  },
  "language_info": {
   "codemirror_mode": {
    "name": "ipython",
    "version": 3
   },
   "file_extension": ".py",
   "mimetype": "text/x-python",
   "name": "python",
   "nbconvert_exporter": "python",
   "pygments_lexer": "ipython3",
   "version": "3.7.2"
  }
 },
 "nbformat": 4,
 "nbformat_minor": 2
}
