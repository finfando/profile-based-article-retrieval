{
 "cells": [
  {
   "cell_type": "code",
   "execution_count": 1,
   "metadata": {},
   "outputs": [],
   "source": [
    "%load_ext autoreload\n",
    "%autoreload 2\n",
    "import sys\n",
    "import os"
   ]
  },
  {
   "cell_type": "code",
   "execution_count": 2,
   "metadata": {},
   "outputs": [
    {
     "name": "stderr",
     "output_type": "stream",
     "text": [
      "[nltk_data] Downloading package stopwords to\n",
      "[nltk_data]     C:\\Users\\Filip\\AppData\\Roaming\\nltk_data...\n",
      "[nltk_data]   Package stopwords is already up-to-date!\n"
     ]
    },
    {
     "data": {
      "text/plain": [
       "True"
      ]
     },
     "execution_count": 2,
     "metadata": {},
     "output_type": "execute_result"
    }
   ],
   "source": [
    "import nltk\n",
    "nltk.download('stopwords')"
   ]
  },
  {
   "cell_type": "code",
   "execution_count": 3,
   "metadata": {},
   "outputs": [],
   "source": [
    "from lib.data import generate_profiles, get_docs\n",
    "from lib.functions import *"
   ]
  },
  {
   "cell_type": "markdown",
   "metadata": {},
   "source": [
    "# Profiles\n",
    "Here we generate some profiles"
   ]
  },
  {
   "cell_type": "code",
   "execution_count": 4,
   "metadata": {},
   "outputs": [
    {
     "data": {
      "text/plain": [
       "{0: ['Entertainment', 'Politics', 'Business', 'Technology', 'Sports'],\n",
       " 1: ['Technology', 'Business', 'Politics', 'Sports'],\n",
       " 2: ['Entertainment', 'Sports', 'Politics', 'Business', 'Technology'],\n",
       " 3: ['Business', 'Sports', 'Politics'],\n",
       " 4: ['Technology', 'Business', 'Sports', 'Entertainment'],\n",
       " 5: ['Entertainment', 'Sports', 'Business'],\n",
       " 6: ['Entertainment'],\n",
       " 7: ['Sports', 'Business'],\n",
       " 8: ['Business', 'Technology', 'Politics', 'Sports'],\n",
       " 9: ['Politics', 'Entertainment', 'Business', 'Technology']}"
      ]
     },
     "execution_count": 4,
     "metadata": {},
     "output_type": "execute_result"
    }
   ],
   "source": [
    "n = 10\n",
    "topics = [\n",
    "    'Business',\n",
    "    'Entertainment',\n",
    "    'Politics',\n",
    "    'Sports',\n",
    "    'Technology',\n",
    "]\n",
    "\n",
    "profiles = generate_profiles(n, topics)\n",
    "profiles"
   ]
  },
  {
   "cell_type": "markdown",
   "metadata": {},
   "source": [
    "# Documents"
   ]
  },
  {
   "cell_type": "code",
   "execution_count": 5,
   "metadata": {},
   "outputs": [],
   "source": [
    "path = os.path.join('bbc-fulltext')              \n",
    "docs = get_docs(path)"
   ]
  },
  {
   "cell_type": "markdown",
   "metadata": {},
   "source": [
    "## Query using scripts from moodle"
   ]
  },
  {
   "cell_type": "code",
   "execution_count": 6,
   "metadata": {},
   "outputs": [],
   "source": [
    "# tfidf, dictionary = create_TF_IDF_model(docs)"
   ]
  },
  {
   "cell_type": "code",
   "execution_count": 7,
   "metadata": {},
   "outputs": [],
   "source": [
    "ranking = launch_query(\n",
    "    docs,\n",
    "    '''\n",
    "Anelka, 25, is in talks over a contract extension beyond 2007 with City but is believed to fear his career \n",
    "will go stale if he stays at the club. The News of the World reports that Anelka told a French magazine: \n",
    "\"I either decide to win titles or to have an easy life. \n",
    "\"I think I will always choose football, if a great club makes me an offer.\n",
    "    ''')"
   ]
  },
  {
   "cell_type": "code",
   "execution_count": 8,
   "metadata": {
    "scrolled": false
   },
   "outputs": [
    {
     "name": "stdout",
     "output_type": "stream",
     "text": [
      "[ Score = 0.609] Anelka 'eyes Man City departure'\n",
      "\n",
      "Striker Nicolas Anelka reportedly wants to leave Manchester City in search of Champions League football.\n",
      "\n",
      "Anelka, 25, is in talks over a contract extension beyond 2007 with City but is believed to fear his career will go stale if he stays at the club. The News of the World reports that Anelka told a French magazine: \"I either decide to win titles or to have an easy life. \"I think I will always choose football, if a great club makes me an offer.\" He added: \"To win titles you need players who have the capability of doing so. If we stagnate between eighth and 15th place it's impossible to progress. \"If I am going to score goals and not win, there is a risk it is going to create a feeling of being fed up.\" Anelka has earned a reputation for being a difficult character to handle after spells at Arsenal, Real Madrid and Paris St Germain and he feels that is now coming back to haunt him.\n",
      "\n",
      "\"I am in talks to sign an extension to my contract,\" he said. \"I am well here but the sporting aspect also comes into account. \"Playing for eighth place is good but I miss the Champions League. \"I won it with Real Madrid in 2000 and I need to be playing in it - and I should be playing in it. \"I'm not in it because of things that have happened in the past and had nothing to do with football. \"But I don't blame anyone. It's a bit my fault.\"\n",
      "\n",
      "[ Score = 0.345] Anelka apologises for criticism\n",
      "\n",
      "Manchester City striker Nicolas Anelka has issued an apology for criticising the ambitions of the club.\n",
      "\n",
      "Anelka was quoted in a French newspaper as saying he would like to play in the Champions League for a bigger club. But chairman John Wardle said: \"I've spoken to Nicolas and he's apologised for anything that might have been mistakenly taken from the French press. \"We are a big club. Nicolas told me that he agrees with me that we are a big club.\" Wardle was speaking at the club's annual general meeting, where he also confirmed the club had not received any bids for the former Arsenal and Real Madrid striker. The club still owe French club PSG ÂŁ5m from the purchase of Anelka in May 2002. He has been linked with a move to Barcelona and Liverpool, and Reds skipper Steven Gerrard also revealed he is an admirer from his time on loan at Anfield. But Wardle added: \"There's been no bids for Nicolas Anelka. No-one has come to me and said I would like to buy Nicolas Anelka.\n",
      "\n",
      "\"If a bid comes in for Nicolas Anelka I will speak to the board and then speak to Kevin Keegan. \"If there was a bid and it was a bid of substance and worth taking then between us we'd decide. \"We still owe some money on Nicolas which we have clear out, so it would have to be above that.\" Wardle did stress that the club was not inviting any offers for England winger Shaun Wright-Phillips. He added: \"I've no intention of selling Shaun Wright-Phillips. \"If someone comes with a silly bid I'll have to discuss it. \"But we're not putting him on the shelf to sell. He is the heart and soul of this club and has his heart and sole in this club, and he would be very upset if I put him in the shop window. \"He was an academy kid here, he's just signed a new four-year deal, I don't think he'd do that unless he wanted to play for Manchester City Football Club.\" City recently announced debts of ÂŁ62m, but Wardle confirmed they would try and find funds to bring in players in the January transfer window. He said: \"Like Kevin I'd like to see some players come in. We've got to see what we can do - whether it's a on a Bosman or not. \"We will try to be creative to generate some funds. But maybe we have to start looking at clubs like Everton and Bolton to see how they have been dealing in the transfer market and do a similar type of thing.\"\n",
      "\n",
      "[ Score = 0.193] Wenger signs new deal\n",
      "\n",
      "Arsenal manager Arsene Wenger has signed a new contract to stay at the club until May 2008.\n",
      "\n",
      "Wenger has ended speculation about his future by agreeing a long-term contract that takes him beyond the opening of Arsenal's new stadium in two years. He said: \"Signing a new contract just rubber-stamps my desire to take this club forward and fulfil my ambitions. \"I still have so much to achieve and my target is to drive this club on. These are exciting times for Arsenal.\"\n",
      "\n",
      "The 55-year-old Frenchman told Arsenal's website www.arsenal.com: \"My intention has always been clear. I love this club and am very happy here.\" Wenger has won the title and the FA Cup three times each during his reign. Chairman Peter Hill-Wood said: \"We are absolutely delighted that Arsene has signed an extension to his contract. \"Since his arrival in 1996, he has revolutionised the club both on and off the pitch. \"As well as the six major honours he's won during his time here, Arsene has been a leading influence behind all the major initiatives at the club including the construction of our new training centre and also our new stadium.\n",
      "\n",
      "\"The club has continued to reap the benefits of Arsene's natural eye for unearthing footballing talent. \"We currently have a fantastic crop of young players coming through the ranks together with a number of world-class players who are playing a wonderful brand of football.\" Meanwhile, Arsenal director Danny Fiszman is looking for Wenger to stay beyond 2008. \"When we come towards the end of his contract we will both review the situation. I'm sure we will want him to stay on and I hope he will too,\" said Fiszman.\n",
      "\n",
      "[ Score = 0.167] Ronaldo considering new contract\n",
      "\n",
      "Manchester United winger Cristiano Ronaldo said he is close to agreeing to a new contract at Old Trafford.\n",
      "\n",
      "The Portugal star, who joined in August 2003 on a five-year-deal, is a regular in the United first-team. \"The United board have already made an offer to renew the contract but I'm trying not to think about it,\" he told the News of the World. \"My agent has spoken with the club and it will be resolved soon. I think we'll reach a good agreement for both sides.\" Ronaldo refused to commit his long-term future to the club.\n",
      "\n",
      "\"Nobody knows what will come tomorrow. I like being here, but who knows,\" he added. \"There aren't many bigger and better clubs than this one. It's my ambition to be at a big club. I'm happy but nobody knows the future.\"\n",
      "\n"
     ]
    }
   ],
   "source": [
    "counter = 0\n",
    "for doc, score in ranking:\n",
    "    print(\"[ Score = \" + \"%.3f\" % round(score,3) + \"] \" + docs[doc])\n",
    "    counter+=1\n",
    "    if counter > 3: break"
   ]
  },
  {
   "cell_type": "markdown",
   "metadata": {},
   "source": [
    "## Topic extraction using LDA"
   ]
  },
  {
   "cell_type": "code",
   "execution_count": 9,
   "metadata": {},
   "outputs": [
    {
     "name": "stdout",
     "output_type": "stream",
     "text": [
      "Wall time: 15.9 s\n"
     ]
    }
   ],
   "source": [
    "from gensim import corpora, models\n",
    "\n",
    "# list_of_list_of_tokens = [[\"a\",\"b\",\"c\"], [\"d\",\"e\",\"f\"]]\n",
    "# [\"a\",\"b\",\"c\"] are the tokens of document 1, [\"d\",\"e\",\"f\"] are the tokens of document 2...\n",
    "list_of_list_of_tokens = [preprocess_document(doc) for doc in docs]\n",
    "dictionary_LDA = corpora.Dictionary(list_of_list_of_tokens)\n",
    "dictionary_LDA.filter_extremes(no_below=3)\n",
    "corpus = [dictionary_LDA.doc2bow(list_of_tokens) for list_of_tokens in list_of_list_of_tokens]\n",
    "\n",
    "num_topics = 10\n",
    "%time lda_model = models.LdaModel(corpus, num_topics=num_topics, \\\n",
    "                                  id2word=dictionary_LDA, \\\n",
    "                                  passes=4, alpha=[0.01]*num_topics, \\\n",
    "                                  eta=[0.01]*len(dictionary_LDA.keys()))"
   ]
  },
  {
   "cell_type": "code",
   "execution_count": 10,
   "metadata": {},
   "outputs": [
    {
     "name": "stdout",
     "output_type": "stream",
     "text": [
      "0: 0.013*\"servic\" + 0.013*\"broadband\" + 0.013*\"peopl\" + 0.010*\"net\" + 0.009*\"search\" + 0.008*\"use\" + 0.006*\"call\" + 0.006*\"user\" + 0.006*\"report\" + 0.006*\"access\"\n",
      "\n",
      "1: 0.016*\"softwar\" + 0.015*\"comput\" + 0.014*\"use\" + 0.013*\"user\" + 0.012*\"system\" + 0.011*\"secur\" + 0.011*\"firm\" + 0.010*\"program\" + 0.010*\"file\" + 0.009*\"viru\"\n",
      "\n",
      "2: 0.010*\"england\" + 0.008*\"wale\" + 0.007*\"win\" + 0.007*\"ireland\" + 0.006*\"first\" + 0.006*\"parti\" + 0.006*\"nation\" + 0.006*\"six\" + 0.005*\"side\" + 0.005*\"back\"\n",
      "\n",
      "3: 0.027*\"mobil\" + 0.022*\"phone\" + 0.015*\"use\" + 0.012*\"peopl\" + 0.010*\"technolog\" + 0.007*\"one\" + 0.007*\"new\" + 0.006*\"network\" + 0.006*\"handset\" + 0.005*\"messag\"\n",
      "\n",
      "4: 0.015*\"site\" + 0.010*\"peopl\" + 0.009*\"attack\" + 0.007*\"net\" + 0.007*\"websit\" + 0.007*\"firm\" + 0.007*\"spam\" + 0.007*\"use\" + 0.006*\"mail\" + 0.006*\"mani\"\n",
      "\n",
      "5: 0.016*\"servic\" + 0.009*\"mobil\" + 0.009*\"offer\" + 0.009*\"radio\" + 0.008*\"broadcast\" + 0.008*\"search\" + 0.008*\"peopl\" + 0.007*\"music\" + 0.007*\"download\" + 0.007*\"new\"\n",
      "\n",
      "6: 0.013*\"game\" + 0.011*\"play\" + 0.008*\"time\" + 0.007*\"world\" + 0.007*\"one\" + 0.006*\"get\" + 0.004*\"like\" + 0.004*\"first\" + 0.004*\"player\" + 0.004*\"win\"\n",
      "\n",
      "7: 0.008*\"govern\" + 0.007*\"say\" + 0.006*\"minist\" + 0.005*\"could\" + 0.005*\"law\" + 0.005*\"need\" + 0.004*\"make\" + 0.004*\"work\" + 0.004*\"new\" + 0.004*\"plan\"\n",
      "\n",
      "8: 0.019*\"film\" + 0.016*\"sale\" + 0.011*\"releas\" + 0.009*\"2004\" + 0.008*\"best\" + 0.008*\"movi\" + 0.007*\"award\" + 0.007*\"record\" + 0.007*\"game\" + 0.006*\"million\"\n",
      "\n",
      "9: 0.019*\"game\" + 0.011*\"technolog\" + 0.011*\"music\" + 0.010*\"peopl\" + 0.009*\"player\" + 0.009*\"digit\" + 0.008*\"use\" + 0.007*\"devic\" + 0.006*\"make\" + 0.006*\"consum\"\n",
      "\n"
     ]
    }
   ],
   "source": [
    "for i, topic in lda_model.show_topics(formatted=True, num_topics=num_topics, num_words=10):\n",
    "    print(str(i)+\": \"+ topic)\n",
    "    print()"
   ]
  },
  {
   "cell_type": "markdown",
   "metadata": {},
   "source": [
    "# Article assignment\n",
    "Here we need to assign some articles"
   ]
  },
  {
   "cell_type": "code",
   "execution_count": 11,
   "metadata": {},
   "outputs": [
    {
     "name": "stdout",
     "output_type": "stream",
     "text": [
      "0 ['Entertainment', 'Politics', 'Business', 'Technology', 'Sports']\n",
      "Article assigned to user 0\n",
      "1 ['Technology', 'Business', 'Politics', 'Sports']\n",
      "Article assigned to user 1\n",
      "2 ['Entertainment', 'Sports', 'Politics', 'Business', 'Technology']\n",
      "Article assigned to user 2\n",
      "3 ['Business', 'Sports', 'Politics']\n",
      "4 ['Technology', 'Business', 'Sports', 'Entertainment']\n",
      "Article assigned to user 4\n",
      "5 ['Entertainment', 'Sports', 'Business']\n",
      "6 ['Entertainment']\n",
      "7 ['Sports', 'Business']\n",
      "8 ['Business', 'Technology', 'Politics', 'Sports']\n",
      "Article assigned to user 8\n",
      "9 ['Politics', 'Entertainment', 'Business', 'Technology']\n",
      "Article assigned to user 9\n"
     ]
    }
   ],
   "source": [
    "new_article = '''\n",
    "tam tam tam\n",
    "'''\n",
    "\n",
    "def extract_topic(text):\n",
    "    '''TO DO\n",
    "    '''\n",
    "    return 'Technology'\n",
    "\n",
    "# assign topic to article\n",
    "article_topic = extract_topic(new_article)\n",
    "\n",
    "for profile, topics in profiles.items():\n",
    "    print(profile, topics)\n",
    "    if article_topic in topics:\n",
    "        print('Article assigned to user', profile)\n",
    "    else:\n",
    "        pass"
   ]
  }
 ],
 "metadata": {
  "kernelspec": {
   "display_name": "Python 3",
   "language": "python",
   "name": "python3"
  },
  "language_info": {
   "codemirror_mode": {
    "name": "ipython",
    "version": 3
   },
   "file_extension": ".py",
   "mimetype": "text/x-python",
   "name": "python",
   "nbconvert_exporter": "python",
   "pygments_lexer": "ipython3",
   "version": "3.7.2"
  }
 },
 "nbformat": 4,
 "nbformat_minor": 2
}
