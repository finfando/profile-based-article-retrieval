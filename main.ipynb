{
 "cells": [
  {
   "cell_type": "code",
   "execution_count": 1,
   "metadata": {},
   "outputs": [],
   "source": [
    "from profile_generator import generate_profiles"
   ]
  },
  {
   "cell_type": "code",
   "execution_count": 2,
   "metadata": {},
   "outputs": [
    {
     "data": {
      "text/plain": [
       "{0: ['Entertainment'],\n",
       " 1: ['Politics', 'Entertainment', 'Sports', 'Technology'],\n",
       " 2: ['Sports', 'Technology', 'Politics', 'Business', 'Entertainment'],\n",
       " 3: ['Technology'],\n",
       " 4: ['Entertainment', 'Sports', 'Politics', 'Business'],\n",
       " 5: ['Politics', 'Sports'],\n",
       " 6: ['Entertainment', 'Technology', 'Business'],\n",
       " 7: ['Politics', 'Entertainment', 'Business', 'Sports'],\n",
       " 8: ['Technology', 'Entertainment', 'Business'],\n",
       " 9: ['Entertainment', 'Sports', 'Business', 'Technology'],\n",
       " 10: ['Entertainment', 'Business', 'Sports'],\n",
       " 11: ['Entertainment', 'Sports', 'Politics', 'Technology'],\n",
       " 12: ['Sports'],\n",
       " 13: ['Business', 'Sports', 'Entertainment', 'Politics', 'Technology'],\n",
       " 14: ['Entertainment', 'Sports', 'Politics', 'Business'],\n",
       " 15: ['Sports'],\n",
       " 16: ['Politics', 'Sports'],\n",
       " 17: ['Politics', 'Sports', 'Entertainment', 'Business', 'Technology'],\n",
       " 18: ['Sports', 'Entertainment', 'Politics', 'Business', 'Technology'],\n",
       " 19: ['Politics', 'Technology', 'Entertainment', 'Business'],\n",
       " 20: ['Entertainment', 'Business'],\n",
       " 21: ['Technology'],\n",
       " 22: ['Technology', 'Sports'],\n",
       " 23: ['Business', 'Technology'],\n",
       " 24: ['Entertainment', 'Sports', 'Politics'],\n",
       " 25: ['Entertainment', 'Business', 'Technology'],\n",
       " 26: ['Sports', 'Politics', 'Business', 'Entertainment'],\n",
       " 27: ['Business', 'Politics', 'Sports', 'Technology', 'Entertainment'],\n",
       " 28: ['Politics', 'Technology'],\n",
       " 29: ['Sports', 'Politics', 'Business'],\n",
       " 30: ['Sports', 'Entertainment', 'Technology', 'Politics'],\n",
       " 31: ['Politics', 'Entertainment', 'Technology'],\n",
       " 32: ['Sports', 'Business'],\n",
       " 33: ['Business', 'Politics', 'Technology', 'Sports'],\n",
       " 34: ['Business'],\n",
       " 35: ['Politics', 'Technology', 'Business', 'Entertainment'],\n",
       " 36: ['Technology', 'Sports'],\n",
       " 37: ['Technology', 'Politics', 'Sports', 'Business'],\n",
       " 38: ['Technology', 'Sports'],\n",
       " 39: ['Technology'],\n",
       " 40: ['Entertainment', 'Politics'],\n",
       " 41: ['Sports', 'Politics'],\n",
       " 42: ['Business', 'Entertainment', 'Politics'],\n",
       " 43: ['Business', 'Sports'],\n",
       " 44: ['Business', 'Politics', 'Entertainment'],\n",
       " 45: ['Business'],\n",
       " 46: ['Entertainment', 'Technology', 'Politics'],\n",
       " 47: ['Sports', 'Technology', 'Business'],\n",
       " 48: ['Sports', 'Politics', 'Technology'],\n",
       " 49: ['Politics', 'Business']}"
      ]
     },
     "execution_count": 2,
     "metadata": {},
     "output_type": "execute_result"
    }
   ],
   "source": [
    "n = 50\n",
    "topics = [\n",
    "    'Business',\n",
    "    'Entertainment',\n",
    "    'Politics',\n",
    "    'Sports',\n",
    "    'Technology',\n",
    "]\n",
    "\n",
    "profiles = generate_profiles(n, topics)\n",
    "profiles"
   ]
  }
 ],
 "metadata": {
  "kernelspec": {
   "display_name": "Python 3",
   "language": "python",
   "name": "python3"
  },
  "language_info": {
   "codemirror_mode": {
    "name": "ipython",
    "version": 3
   },
   "file_extension": ".py",
   "mimetype": "text/x-python",
   "name": "python",
   "nbconvert_exporter": "python",
   "pygments_lexer": "ipython3",
   "version": "3.7.2"
  }
 },
 "nbformat": 4,
 "nbformat_minor": 2
}
